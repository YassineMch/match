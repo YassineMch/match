{
 "cells": [
  {
   "cell_type": "code",
   "execution_count": 59,
   "metadata": {},
   "outputs": [],
   "source": [
    "import rosbag\n",
    "import numpy as np\n",
    "from nav_msgs.msg import Odometry  \n",
    "import matplotlib.pyplot as plt\n",
    "import math\n",
    "from tf import transformations\n",
    "import time\n",
    "from datetime import datetime"
   ]
  },
  {
   "cell_type": "code",
   "execution_count": 64,
   "metadata": {},
   "outputs": [],
   "source": [
    "x_odom = []\n",
    "y_odom = []\n",
    "z_odom = []\n",
    "x_odom_q = []\n",
    "y_odom_q= []\n",
    "z_odom_q = []\n",
    "w_odom_q = []\n",
    "quat_odom = []\n",
    "yaw_odom = []\n",
    "timestamps_odom=[]\n",
    "timestamp_odom =[]\n",
    "\n",
    "x_fil = []\n",
    "y_fil = []\n",
    "z_fil = []\n",
    "x_fil_q = []\n",
    "y_fil_q= []\n",
    "z_fil_q = []\n",
    "w_fil_q = []\n",
    "quat_fil = []\n",
    "yaw_fil = []\n",
    "timestamps=[]\n",
    "timestamp =[]\n",
    "\n",
    "x_marv = []\n",
    "y_marv = []\n",
    "z_marv = []\n",
    "x_marv_q = []\n",
    "y_marv_q= []\n",
    "z_marv_q = []\n",
    "w_marv_q = []\n",
    "quat_marv = []\n",
    "yaw_marv = []\n",
    "timestamps_marv =[]\n",
    "timestamp_marv =[]\n",
    "\n",
    "x_2 = []\n",
    "y_2 = []\n",
    "z_2 = []\n",
    "x_1 = []\n",
    "y_1 = []\n",
    "z_1 = []\n",
    "\n",
    "x_mean = []\n",
    "y_mean = []\n",
    "z_mean = []\n"
   ]
  },
  {
   "cell_type": "code",
   "execution_count": 65,
   "metadata": {},
   "outputs": [
    {
     "name": "stdout",
     "output_type": "stream",
     "text": [
      "Using matplotlib backend: TkAgg\n"
     ]
    }
   ],
   "source": [
    "bag = rosbag.Bag ('/home/rosmatch/catkin_ws_yassin/src/match/my_scripts/aufnahmen/aufnahmen_test_marvelmind/stationary_state/aufnahme_stationary_nlos/2022-11-07-15-27-23.bag')\n",
    "for topic, msg, t in bag.read_messages(topics=['/odom']):\n",
    "    x_odom.append(msg.pose.pose.position.x)\n",
    "    y_odom.append(msg.pose.pose.position.y)\n",
    "    z_odom.append(msg.pose.pose.position.z)\n",
    "    x_odom_q.append(msg.pose.pose.orientation.x)\n",
    "    y_odom_q.append(msg.pose.pose.orientation.y)\n",
    "    z_odom_q.append(msg.pose.pose.orientation.z)\n",
    "    w_odom_q.append(msg.pose.pose.orientation.w)\n",
    "    timestamps_odom.append(msg.header.stamp)\n",
    "for topic, msg, t in bag.read_messages(topics=['/odometry/filtered']):\n",
    "    x_fil.append(msg.pose.pose.position.x)\n",
    "    y_fil.append(msg.pose.pose.position.y)\n",
    "    z_fil.append(msg.pose.pose.position.z)\n",
    "    x_fil_q.append(msg.pose.pose.orientation.x)\n",
    "    y_fil_q.append(msg.pose.pose.orientation.y)\n",
    "    z_fil_q.append(msg.pose.pose.orientation.z)\n",
    "    w_fil_q.append(msg.pose.pose.orientation.w)\n",
    "    timestamps.append(msg.header.stamp)\n",
    "for topic, msg, t in bag.read_messages(topics=['/position_marvelmind_with_covariance']):\n",
    "    x_marv.append(msg.pose.pose.position.x)\n",
    "    y_marv.append(msg.pose.pose.position.y)\n",
    "    z_marv.append(msg.pose.pose.position.z)  \n",
    "    x_marv_q.append(msg.pose.pose.orientation.x)\n",
    "    y_marv_q.append(msg.pose.pose.orientation.y)\n",
    "    z_marv_q.append(msg.pose.pose.orientation.z)\n",
    "    w_marv_q.append(msg.pose.pose.orientation.w)\n",
    "    timestamps_marv.append(msg.header.stamp)\n",
    "for topic, msg, t in bag.read_messages(topics=['/hedge2/hedge_pos_ang']):\n",
    "    x_2.append(msg.x_m)\n",
    "    y_2.append(msg.y_m)\n",
    "    z_2.append(msg.z_m)   \n",
    "for topic, msg, t in bag.read_messages(topics=['/hedge1/hedge_pos_ang']):\n",
    "    x_1.append(msg.x_m)\n",
    "    y_1.append(msg.y_m)\n",
    "    z_1.append(msg.z_m)   \n",
    "for topic, msg, t in bag.read_messages(topics=['/position_mean']):\n",
    "    x_mean.append(msg.pose.pose.position.x)\n",
    "    y_mean.append(msg.pose.pose.position.y)\n",
    "    z_mean.append(msg.pose.pose.position.z) \n",
    "bag.close() \n",
    "\n",
    "%matplotlib\n"
   ]
  },
  {
   "cell_type": "code",
   "execution_count": 35,
   "metadata": {},
   "outputs": [
    {
     "ename": "NameError",
     "evalue": "name 'result_1' is not defined",
     "output_type": "error",
     "traceback": [
      "\u001b[0;31m---------------------------------------------------------------------------\u001b[0m",
      "\u001b[0;31mNameError\u001b[0m                                 Traceback (most recent call last)",
      "\u001b[1;32m/home/rosmatch/catkin_ws_yassin/src/match/my_scripts/sensor_fusion/parameter/data visiualisation.ipynb Zelle 4\u001b[0m in \u001b[0;36m<cell line: 16>\u001b[0;34m()\u001b[0m\n\u001b[1;32m     <a href='vscode-notebook-cell:/home/rosmatch/catkin_ws_yassin/src/match/my_scripts/sensor_fusion/parameter/data%20visiualisation.ipynb#W3sZmlsZQ%3D%3D?line=12'>13</a>\u001b[0m     result_1 \u001b[39m=\u001b[39m [\u001b[39mint\u001b[39m(item) \u001b[39mfor\u001b[39;00m item \u001b[39min\u001b[39;00m timestamp]\n\u001b[1;32m     <a href='vscode-notebook-cell:/home/rosmatch/catkin_ws_yassin/src/match/my_scripts/sensor_fusion/parameter/data%20visiualisation.ipynb#W3sZmlsZQ%3D%3D?line=14'>15</a>\u001b[0m \u001b[39m#plt.plot(euler_2)\u001b[39;00m\n\u001b[0;32m---> <a href='vscode-notebook-cell:/home/rosmatch/catkin_ws_yassin/src/match/my_scripts/sensor_fusion/parameter/data%20visiualisation.ipynb#W3sZmlsZQ%3D%3D?line=15'>16</a>\u001b[0m plt\u001b[39m.\u001b[39mplot(result_1, deg_fil_unwraped)\n\u001b[1;32m     <a href='vscode-notebook-cell:/home/rosmatch/catkin_ws_yassin/src/match/my_scripts/sensor_fusion/parameter/data%20visiualisation.ipynb#W3sZmlsZQ%3D%3D?line=18'>19</a>\u001b[0m f \u001b[39m=\u001b[39m \u001b[39mlen\u001b[39m(x_odom_q)\n\u001b[1;32m     <a href='vscode-notebook-cell:/home/rosmatch/catkin_ws_yassin/src/match/my_scripts/sensor_fusion/parameter/data%20visiualisation.ipynb#W3sZmlsZQ%3D%3D?line=19'>20</a>\u001b[0m \u001b[39mfor\u001b[39;00m i \u001b[39min\u001b[39;00m \u001b[39mrange\u001b[39m (f):\n",
      "\u001b[0;31mNameError\u001b[0m: name 'result_1' is not defined"
     ]
    }
   ],
   "source": [
    "from os import times\n",
    "\n",
    "\n",
    "l = len(x_fil_q)\n",
    "for i in range (l):\n",
    "    quat_fil=[x_fil_q[i],y_fil_q[i],z_fil_q[i],w_fil_q[i]]\n",
    "    euler_fil = transformations.euler_from_quaternion (quat_fil)\n",
    "    yaw_fil.append(euler_fil [2])\n",
    "    yaw_fil_unwraped=np.unwrap(yaw_fil)\n",
    "    deg_fil_unwraped=((yaw_fil_unwraped/(math.pi))*180)\n",
    "    tt=str((timestamps[i]-timestamps[0])/10000)\n",
    "    timestamp.append(tt)\n",
    "    result_1 = [int(item) for item in timestamp]\n",
    "    \n",
    "#plt.plot(euler_2)\n",
    "plt.plot(result_1, deg_fil_unwraped)\n",
    "\n",
    "\n",
    "f = len(x_odom_q)\n",
    "for i in range (f):\n",
    "    quat_odom=[x_odom_q[i],y_odom_q[i],z_odom_q[i],w_odom_q[i]]\n",
    "    euler_odom = transformations.euler_from_quaternion (quat_odom)\n",
    "    yaw_odom.append(euler_odom[2])\n",
    "    yaw_odom_unwraped=np.unwrap(yaw_odom)\n",
    "    deg_odom_unwraped=((yaw_odom_unwraped/(math.pi))*180)  \n",
    "    tt_odom=str((timestamps_odom[i]-timestamps_odom[0])/10000)\n",
    "    timestamp_odom.append(tt_odom)\n",
    "    result = [int(item) for item in timestamp_odom]\n",
    "\n",
    "plt.plot(result,deg_odom_unwraped)\n",
    "#print (yaw_odom)\n",
    "\n",
    "f = len(x_marv_q)\n",
    "for i in range (f):\n",
    "    quat_marv=[x_marv_q[i],y_marv_q[i],z_marv_q[i],w_marv_q[i]]\n",
    "    euler_marv = transformations.euler_from_quaternion (quat_marv)\n",
    "    yaw_marv.append(euler_marv[2])\n",
    "    yaw_marv_unwraped=np.unwrap(yaw_marv)\n",
    "    degz_marv_unwraped=((yaw_marv_unwraped/(math.pi))*180)\n",
    "    tt_marv=str((timestamps_marv[i]-timestamps_marv[0])/10000)\n",
    "    timestamp_marv.append(tt_marv)\n",
    "    result_2 = [int(item) for item in timestamp_marv] \n",
    "ff\n",
    "\n",
    "plt.plot(result_2,degz_marv_unwraped)\n",
    "\n"
   ]
  },
  {
   "cell_type": "code",
   "execution_count": 63,
   "metadata": {},
   "outputs": [],
   "source": [
    "plot5=plt.plot(x_1,y_1,'bo',alpha=0.2,label='Beacon Position 1')\n",
    "plot6=plt.plot(x_2,y_2,'ro',alpha=0.2,label='Beacon Position 2')\n",
    "plot5=plt.plot(x_mean,y_mean,'go',alpha=0.2,label='Beacon paired Position ')\n",
    "plt.legend(loc=\"upper right\")\n",
    "plt.title(\"Beacons Position\")\n",
    "#plt.xlim([0.7, 0.84])\n",
    "plt.grid(True)\n",
    "plt.show()"
   ]
  },
  {
   "cell_type": "code",
   "execution_count": 11,
   "metadata": {},
   "outputs": [
    {
     "data": {
      "image/png": "[encoded data removed]",
      "text/plain": [
       "<Figure size 432x288 with 1 Axes>"
      ]
     },
     "metadata": {
      "needs_background": "light"
     },
     "output_type": "display_data"
    }
   ],
   "source": [
    "plot1=plt.plot(x_odom,y_odom,'-b',label='Odometry')\n",
    "plot2=plt.plot(x_fil,y_fil,'-k',label='Data fusion')\n",
    "plot3=plt.plot(x_marv,y_marv,'-r',label='Marvelmind')\n",
    "plt.legend(loc=\"upper right\")\n",
    "plt.grid(True)\n",
    "plt.show()"
   ]
  }
 ],
 "metadata": {
  "kernelspec": {
   "display_name": "Python 3.8.10 64-bit",
   "language": "python",
   "name": "python3"
  },
  "language_info": {
   "codemirror_mode": {
    "name": "ipython",
    "version": 3
   },
   "file_extension": ".py",
   "mimetype": "text/x-python",
   "name": "python",
   "nbconvert_exporter": "python",
   "pygments_lexer": "ipython3",
   "version": "3.8.10"
  },
  "orig_nbformat": 4,
  "vscode": {
   "interpreter": {
    "hash": "916dbcbb3f70747c44a77c7bcd40155683ae19c65e1c03b4aa3499c5328201f1"
   }
  }
 },
 "nbformat": 4,
 "nbformat_minor": 2
}
